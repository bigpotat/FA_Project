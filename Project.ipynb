{
 "cells": [
  {
   "cell_type": "code",
   "execution_count": 1,
   "id": "3adbee08",
   "metadata": {},
   "outputs": [
    {
     "name": "stderr",
     "output_type": "stream",
     "text": [
      "C:\\Users\\summe\\anaconda3\\lib\\site-packages\\pyfolio\\pos.py:26: UserWarning: Module \"zipline.assets\" not found; mutltipliers will not be applied to position notionals.\n",
      "  warnings.warn(\n"
     ]
    }
   ],
   "source": [
    "#import the required libraries here\n",
    "from pandas_datareader import data\n",
    "import matplotlib.pyplot as plt\n",
    "import pandas as pd\n",
    "import numpy as np\n",
    "\n",
    "from scipy.stats import norm\n",
    "\n",
    "import pyfolio as pf\n",
    "\n",
    "%matplotlib inline"
   ]
  },
  {
   "cell_type": "code",
   "execution_count": 2,
   "id": "cff4246c",
   "metadata": {},
   "outputs": [
    {
     "data": {
      "text/html": [
       "<div>\n",
       "<style scoped>\n",
       "    .dataframe tbody tr th:only-of-type {\n",
       "        vertical-align: middle;\n",
       "    }\n",
       "\n",
       "    .dataframe tbody tr th {\n",
       "        vertical-align: top;\n",
       "    }\n",
       "\n",
       "    .dataframe thead tr th {\n",
       "        text-align: left;\n",
       "    }\n",
       "\n",
       "    .dataframe thead tr:last-of-type th {\n",
       "        text-align: right;\n",
       "    }\n",
       "</style>\n",
       "<table border=\"1\" class=\"dataframe\">\n",
       "  <thead>\n",
       "    <tr>\n",
       "      <th>Attributes</th>\n",
       "      <th colspan=\"7\" halign=\"left\">Close</th>\n",
       "      <th colspan=\"7\" halign=\"left\">Adj Close</th>\n",
       "    </tr>\n",
       "    <tr>\n",
       "      <th>Symbols</th>\n",
       "      <th>FSLY</th>\n",
       "      <th>IMMR</th>\n",
       "      <th>FB</th>\n",
       "      <th>U</th>\n",
       "      <th>NVDA</th>\n",
       "      <th>AAPL</th>\n",
       "      <th>MSFT</th>\n",
       "      <th>FSLY</th>\n",
       "      <th>IMMR</th>\n",
       "      <th>FB</th>\n",
       "      <th>U</th>\n",
       "      <th>NVDA</th>\n",
       "      <th>AAPL</th>\n",
       "      <th>MSFT</th>\n",
       "    </tr>\n",
       "    <tr>\n",
       "      <th>Date</th>\n",
       "      <th></th>\n",
       "      <th></th>\n",
       "      <th></th>\n",
       "      <th></th>\n",
       "      <th></th>\n",
       "      <th></th>\n",
       "      <th></th>\n",
       "      <th></th>\n",
       "      <th></th>\n",
       "      <th></th>\n",
       "      <th></th>\n",
       "      <th></th>\n",
       "      <th></th>\n",
       "      <th></th>\n",
       "    </tr>\n",
       "  </thead>\n",
       "  <tbody>\n",
       "    <tr>\n",
       "      <th>2021-01-04</th>\n",
       "      <td>86.139999</td>\n",
       "      <td>10.75</td>\n",
       "      <td>268.940002</td>\n",
       "      <td>144.080002</td>\n",
       "      <td>131.134995</td>\n",
       "      <td>129.410004</td>\n",
       "      <td>217.690002</td>\n",
       "      <td>86.139999</td>\n",
       "      <td>10.75</td>\n",
       "      <td>268.940002</td>\n",
       "      <td>144.080002</td>\n",
       "      <td>131.020569</td>\n",
       "      <td>128.453445</td>\n",
       "      <td>215.434967</td>\n",
       "    </tr>\n",
       "    <tr>\n",
       "      <th>2021-01-05</th>\n",
       "      <td>86.699997</td>\n",
       "      <td>10.99</td>\n",
       "      <td>270.970001</td>\n",
       "      <td>148.720001</td>\n",
       "      <td>134.047501</td>\n",
       "      <td>131.009995</td>\n",
       "      <td>217.899994</td>\n",
       "      <td>86.699997</td>\n",
       "      <td>10.99</td>\n",
       "      <td>270.970001</td>\n",
       "      <td>148.720001</td>\n",
       "      <td>133.930511</td>\n",
       "      <td>130.041611</td>\n",
       "      <td>215.642792</td>\n",
       "    </tr>\n",
       "    <tr>\n",
       "      <th>2021-01-06</th>\n",
       "      <td>81.620003</td>\n",
       "      <td>11.03</td>\n",
       "      <td>263.309998</td>\n",
       "      <td>137.990005</td>\n",
       "      <td>126.144997</td>\n",
       "      <td>126.599998</td>\n",
       "      <td>212.250000</td>\n",
       "      <td>81.620003</td>\n",
       "      <td>11.03</td>\n",
       "      <td>263.309998</td>\n",
       "      <td>137.990005</td>\n",
       "      <td>126.034920</td>\n",
       "      <td>125.664215</td>\n",
       "      <td>210.051331</td>\n",
       "    </tr>\n",
       "    <tr>\n",
       "      <th>2021-01-07</th>\n",
       "      <td>86.910004</td>\n",
       "      <td>12.08</td>\n",
       "      <td>268.739990</td>\n",
       "      <td>138.570007</td>\n",
       "      <td>133.440002</td>\n",
       "      <td>130.919998</td>\n",
       "      <td>218.289993</td>\n",
       "      <td>86.910004</td>\n",
       "      <td>12.08</td>\n",
       "      <td>268.739990</td>\n",
       "      <td>138.570007</td>\n",
       "      <td>133.323547</td>\n",
       "      <td>129.952286</td>\n",
       "      <td>216.028732</td>\n",
       "    </tr>\n",
       "    <tr>\n",
       "      <th>2021-01-08</th>\n",
       "      <td>88.220001</td>\n",
       "      <td>12.22</td>\n",
       "      <td>267.570007</td>\n",
       "      <td>146.199997</td>\n",
       "      <td>132.767502</td>\n",
       "      <td>132.050003</td>\n",
       "      <td>219.619995</td>\n",
       "      <td>88.220001</td>\n",
       "      <td>12.22</td>\n",
       "      <td>267.570007</td>\n",
       "      <td>146.199997</td>\n",
       "      <td>132.651642</td>\n",
       "      <td>131.073914</td>\n",
       "      <td>217.344971</td>\n",
       "    </tr>\n",
       "  </tbody>\n",
       "</table>\n",
       "</div>"
      ],
      "text/plain": [
       "Attributes      Close                                                         \\\n",
       "Symbols          FSLY   IMMR          FB           U        NVDA        AAPL   \n",
       "Date                                                                           \n",
       "2021-01-04  86.139999  10.75  268.940002  144.080002  131.134995  129.410004   \n",
       "2021-01-05  86.699997  10.99  270.970001  148.720001  134.047501  131.009995   \n",
       "2021-01-06  81.620003  11.03  263.309998  137.990005  126.144997  126.599998   \n",
       "2021-01-07  86.910004  12.08  268.739990  138.570007  133.440002  130.919998   \n",
       "2021-01-08  88.220001  12.22  267.570007  146.199997  132.767502  132.050003   \n",
       "\n",
       "Attributes              Adj Close                                             \\\n",
       "Symbols           MSFT       FSLY   IMMR          FB           U        NVDA   \n",
       "Date                                                                           \n",
       "2021-01-04  217.690002  86.139999  10.75  268.940002  144.080002  131.020569   \n",
       "2021-01-05  217.899994  86.699997  10.99  270.970001  148.720001  133.930511   \n",
       "2021-01-06  212.250000  81.620003  11.03  263.309998  137.990005  126.034920   \n",
       "2021-01-07  218.289993  86.910004  12.08  268.739990  138.570007  133.323547   \n",
       "2021-01-08  219.619995  88.220001  12.22  267.570007  146.199997  132.651642   \n",
       "\n",
       "Attributes                          \n",
       "Symbols           AAPL        MSFT  \n",
       "Date                                \n",
       "2021-01-04  128.453445  215.434967  \n",
       "2021-01-05  130.041611  215.642792  \n",
       "2021-01-06  125.664215  210.051331  \n",
       "2021-01-07  129.952286  216.028732  \n",
       "2021-01-08  131.073914  217.344971  "
      ]
     },
     "execution_count": 2,
     "metadata": {},
     "output_type": "execute_result"
    }
   ],
   "source": [
    "tickers = ['FSLY','IMMR', 'FB', 'U','NVDA','AAPL', 'MSFT']\n",
    "\n",
    "start_date = '2021-01-01'\n",
    "end_date = '2021-12-31'\n",
    "\n",
    "panel_data = data.DataReader(tickers,'yahoo', start_date, end_date)\n",
    "panel_data = panel_data.loc['2021-01-01' : '2021-12-31']\n",
    "data = panel_data[['Close', 'Adj Close']]\n",
    "data.head()"
   ]
  },
  {
   "cell_type": "code",
   "execution_count": 3,
   "id": "8ce22587",
   "metadata": {},
   "outputs": [
    {
     "data": {
      "text/html": [
       "<div>\n",
       "<style scoped>\n",
       "    .dataframe tbody tr th:only-of-type {\n",
       "        vertical-align: middle;\n",
       "    }\n",
       "\n",
       "    .dataframe tbody tr th {\n",
       "        vertical-align: top;\n",
       "    }\n",
       "\n",
       "    .dataframe thead tr th {\n",
       "        text-align: left;\n",
       "    }\n",
       "\n",
       "    .dataframe thead tr:last-of-type th {\n",
       "        text-align: right;\n",
       "    }\n",
       "</style>\n",
       "<table border=\"1\" class=\"dataframe\">\n",
       "  <thead>\n",
       "    <tr>\n",
       "      <th>Attributes</th>\n",
       "      <th colspan=\"7\" halign=\"left\">Close</th>\n",
       "      <th colspan=\"7\" halign=\"left\">Adj Close</th>\n",
       "    </tr>\n",
       "    <tr>\n",
       "      <th>Symbols</th>\n",
       "      <th>FSLY</th>\n",
       "      <th>IMMR</th>\n",
       "      <th>FB</th>\n",
       "      <th>U</th>\n",
       "      <th>NVDA</th>\n",
       "      <th>AAPL</th>\n",
       "      <th>MSFT</th>\n",
       "      <th>FSLY</th>\n",
       "      <th>IMMR</th>\n",
       "      <th>FB</th>\n",
       "      <th>U</th>\n",
       "      <th>NVDA</th>\n",
       "      <th>AAPL</th>\n",
       "      <th>MSFT</th>\n",
       "    </tr>\n",
       "    <tr>\n",
       "      <th>Date</th>\n",
       "      <th></th>\n",
       "      <th></th>\n",
       "      <th></th>\n",
       "      <th></th>\n",
       "      <th></th>\n",
       "      <th></th>\n",
       "      <th></th>\n",
       "      <th></th>\n",
       "      <th></th>\n",
       "      <th></th>\n",
       "      <th></th>\n",
       "      <th></th>\n",
       "      <th></th>\n",
       "      <th></th>\n",
       "    </tr>\n",
       "  </thead>\n",
       "  <tbody>\n",
       "    <tr>\n",
       "      <th>2021-12-27</th>\n",
       "      <td>37.750000</td>\n",
       "      <td>6.05</td>\n",
       "      <td>346.179993</td>\n",
       "      <td>148.009995</td>\n",
       "      <td>309.450012</td>\n",
       "      <td>180.330002</td>\n",
       "      <td>342.450012</td>\n",
       "      <td>37.750000</td>\n",
       "      <td>6.05</td>\n",
       "      <td>346.179993</td>\n",
       "      <td>148.009995</td>\n",
       "      <td>309.450012</td>\n",
       "      <td>180.100540</td>\n",
       "      <td>341.743378</td>\n",
       "    </tr>\n",
       "    <tr>\n",
       "      <th>2021-12-28</th>\n",
       "      <td>36.259998</td>\n",
       "      <td>5.87</td>\n",
       "      <td>346.220001</td>\n",
       "      <td>143.520004</td>\n",
       "      <td>303.220001</td>\n",
       "      <td>179.289993</td>\n",
       "      <td>341.250000</td>\n",
       "      <td>36.259998</td>\n",
       "      <td>5.87</td>\n",
       "      <td>346.220001</td>\n",
       "      <td>143.520004</td>\n",
       "      <td>303.220001</td>\n",
       "      <td>179.061859</td>\n",
       "      <td>340.545837</td>\n",
       "    </tr>\n",
       "    <tr>\n",
       "      <th>2021-12-29</th>\n",
       "      <td>35.090000</td>\n",
       "      <td>5.80</td>\n",
       "      <td>342.940002</td>\n",
       "      <td>144.550003</td>\n",
       "      <td>300.010010</td>\n",
       "      <td>179.380005</td>\n",
       "      <td>341.950012</td>\n",
       "      <td>35.090000</td>\n",
       "      <td>5.80</td>\n",
       "      <td>342.940002</td>\n",
       "      <td>144.550003</td>\n",
       "      <td>300.010010</td>\n",
       "      <td>179.151749</td>\n",
       "      <td>341.244415</td>\n",
       "    </tr>\n",
       "    <tr>\n",
       "      <th>2021-12-30</th>\n",
       "      <td>37.230000</td>\n",
       "      <td>5.85</td>\n",
       "      <td>344.359985</td>\n",
       "      <td>145.919998</td>\n",
       "      <td>295.859985</td>\n",
       "      <td>178.199997</td>\n",
       "      <td>339.320007</td>\n",
       "      <td>37.230000</td>\n",
       "      <td>5.85</td>\n",
       "      <td>344.359985</td>\n",
       "      <td>145.919998</td>\n",
       "      <td>295.859985</td>\n",
       "      <td>177.973251</td>\n",
       "      <td>338.619843</td>\n",
       "    </tr>\n",
       "    <tr>\n",
       "      <th>2021-12-31</th>\n",
       "      <td>35.450001</td>\n",
       "      <td>5.71</td>\n",
       "      <td>336.350006</td>\n",
       "      <td>142.990005</td>\n",
       "      <td>294.109985</td>\n",
       "      <td>177.570007</td>\n",
       "      <td>336.320007</td>\n",
       "      <td>35.450001</td>\n",
       "      <td>5.71</td>\n",
       "      <td>336.350006</td>\n",
       "      <td>142.990005</td>\n",
       "      <td>294.109985</td>\n",
       "      <td>177.344055</td>\n",
       "      <td>335.626038</td>\n",
       "    </tr>\n",
       "  </tbody>\n",
       "</table>\n",
       "</div>"
      ],
      "text/plain": [
       "Attributes      Close                                                        \\\n",
       "Symbols          FSLY  IMMR          FB           U        NVDA        AAPL   \n",
       "Date                                                                          \n",
       "2021-12-27  37.750000  6.05  346.179993  148.009995  309.450012  180.330002   \n",
       "2021-12-28  36.259998  5.87  346.220001  143.520004  303.220001  179.289993   \n",
       "2021-12-29  35.090000  5.80  342.940002  144.550003  300.010010  179.380005   \n",
       "2021-12-30  37.230000  5.85  344.359985  145.919998  295.859985  178.199997   \n",
       "2021-12-31  35.450001  5.71  336.350006  142.990005  294.109985  177.570007   \n",
       "\n",
       "Attributes              Adj Close                                            \\\n",
       "Symbols           MSFT       FSLY  IMMR          FB           U        NVDA   \n",
       "Date                                                                          \n",
       "2021-12-27  342.450012  37.750000  6.05  346.179993  148.009995  309.450012   \n",
       "2021-12-28  341.250000  36.259998  5.87  346.220001  143.520004  303.220001   \n",
       "2021-12-29  341.950012  35.090000  5.80  342.940002  144.550003  300.010010   \n",
       "2021-12-30  339.320007  37.230000  5.85  344.359985  145.919998  295.859985   \n",
       "2021-12-31  336.320007  35.450001  5.71  336.350006  142.990005  294.109985   \n",
       "\n",
       "Attributes                          \n",
       "Symbols           AAPL        MSFT  \n",
       "Date                                \n",
       "2021-12-27  180.100540  341.743378  \n",
       "2021-12-28  179.061859  340.545837  \n",
       "2021-12-29  179.151749  341.244415  \n",
       "2021-12-30  177.973251  338.619843  \n",
       "2021-12-31  177.344055  335.626038  "
      ]
     },
     "execution_count": 3,
     "metadata": {},
     "output_type": "execute_result"
    }
   ],
   "source": [
    "data.tail()"
   ]
  },
  {
   "cell_type": "code",
   "execution_count": 4,
   "id": "ce1ec02e",
   "metadata": {},
   "outputs": [],
   "source": [
    "close_data = panel_data['Close']\n",
    "adj_close_data = panel_data['Adj Close']"
   ]
  },
  {
   "cell_type": "code",
   "execution_count": 5,
   "id": "19db28f5",
   "metadata": {},
   "outputs": [
    {
     "data": {
      "text/plain": [
       "Symbols\n",
       "FSLY    0\n",
       "IMMR    0\n",
       "FB      0\n",
       "U       0\n",
       "NVDA    0\n",
       "AAPL    0\n",
       "MSFT    0\n",
       "dtype: int64"
      ]
     },
     "execution_count": 5,
     "metadata": {},
     "output_type": "execute_result"
    }
   ],
   "source": [
    "## Check for null values \n",
    "close_data.isnull().sum()\n",
    "adj_close_data.isnull().sum()"
   ]
  },
  {
   "cell_type": "code",
   "execution_count": 6,
   "id": "4224667a",
   "metadata": {},
   "outputs": [
    {
     "data": {
      "text/plain": [
       "Symbols\n",
       "FSLY    252\n",
       "IMMR    252\n",
       "FB      252\n",
       "U       252\n",
       "NVDA    252\n",
       "AAPL    252\n",
       "MSFT    252\n",
       "dtype: int64"
      ]
     },
     "execution_count": 6,
     "metadata": {},
     "output_type": "execute_result"
    }
   ],
   "source": [
    "close_data.count()"
   ]
  },
  {
   "cell_type": "code",
   "execution_count": 7,
   "id": "30ce1358",
   "metadata": {},
   "outputs": [
    {
     "data": {
      "text/html": [
       "<div>\n",
       "<style scoped>\n",
       "    .dataframe tbody tr th:only-of-type {\n",
       "        vertical-align: middle;\n",
       "    }\n",
       "\n",
       "    .dataframe tbody tr th {\n",
       "        vertical-align: top;\n",
       "    }\n",
       "\n",
       "    .dataframe thead th {\n",
       "        text-align: right;\n",
       "    }\n",
       "</style>\n",
       "<table border=\"1\" class=\"dataframe\">\n",
       "  <thead>\n",
       "    <tr style=\"text-align: right;\">\n",
       "      <th>Symbols</th>\n",
       "      <th>FSLY</th>\n",
       "      <th>IMMR</th>\n",
       "      <th>FB</th>\n",
       "      <th>U</th>\n",
       "      <th>NVDA</th>\n",
       "      <th>AAPL</th>\n",
       "      <th>MSFT</th>\n",
       "    </tr>\n",
       "    <tr>\n",
       "      <th>Date</th>\n",
       "      <th></th>\n",
       "      <th></th>\n",
       "      <th></th>\n",
       "      <th></th>\n",
       "      <th></th>\n",
       "      <th></th>\n",
       "      <th></th>\n",
       "    </tr>\n",
       "  </thead>\n",
       "  <tbody>\n",
       "    <tr>\n",
       "      <th>2021-12-31</th>\n",
       "      <td>-58.846063</td>\n",
       "      <td>-46.883721</td>\n",
       "      <td>25.065071</td>\n",
       "      <td>-0.756522</td>\n",
       "      <td>124.476193</td>\n",
       "      <td>38.060956</td>\n",
       "      <td>55.789955</td>\n",
       "    </tr>\n",
       "  </tbody>\n",
       "</table>\n",
       "</div>"
      ],
      "text/plain": [
       "Symbols          FSLY       IMMR         FB         U        NVDA       AAPL  \\\n",
       "Date                                                                           \n",
       "2021-12-31 -58.846063 -46.883721  25.065071 -0.756522  124.476193  38.060956   \n",
       "\n",
       "Symbols          MSFT  \n",
       "Date                   \n",
       "2021-12-31  55.789955  "
      ]
     },
     "execution_count": 7,
     "metadata": {},
     "output_type": "execute_result"
    }
   ],
   "source": [
    "### Calculate the adj close returned series\n",
    "return_series_adj = (adj_close_data.pct_change()+ 1).cumprod() - 1\n",
    "return_series_adj.tail(1)*100"
   ]
  },
  {
   "cell_type": "code",
   "execution_count": 8,
   "id": "476c8bc8",
   "metadata": {},
   "outputs": [
    {
     "data": {
      "text/plain": [
       "<AxesSubplot:xlabel='Date'>"
      ]
     },
     "execution_count": 8,
     "metadata": {},
     "output_type": "execute_result"
    },
    {
     "data": {
      "image/png": "[encoded data removed]",
      "text/plain": [
       "<Figure size 1152x648 with 1 Axes>"
      ]
     },
     "metadata": {
      "needs_background": "light"
     },
     "output_type": "display_data"
    }
   ],
   "source": [
    "return_series_adj.plot(figsize=(16,9))"
   ]
  },
  {
   "cell_type": "code",
   "execution_count": 9,
   "id": "1f539aeb",
   "metadata": {},
   "outputs": [
    {
     "data": {
      "text/html": [
       "<div>\n",
       "<style scoped>\n",
       "    .dataframe tbody tr th:only-of-type {\n",
       "        vertical-align: middle;\n",
       "    }\n",
       "\n",
       "    .dataframe tbody tr th {\n",
       "        vertical-align: top;\n",
       "    }\n",
       "\n",
       "    .dataframe thead th {\n",
       "        text-align: right;\n",
       "    }\n",
       "</style>\n",
       "<table border=\"1\" class=\"dataframe\">\n",
       "  <thead>\n",
       "    <tr style=\"text-align: right;\">\n",
       "      <th>Symbols</th>\n",
       "      <th>FSLY</th>\n",
       "      <th>IMMR</th>\n",
       "      <th>FB</th>\n",
       "      <th>U</th>\n",
       "      <th>NVDA</th>\n",
       "      <th>AAPL</th>\n",
       "      <th>MSFT</th>\n",
       "    </tr>\n",
       "    <tr>\n",
       "      <th>Date</th>\n",
       "      <th></th>\n",
       "      <th></th>\n",
       "      <th></th>\n",
       "      <th></th>\n",
       "      <th></th>\n",
       "      <th></th>\n",
       "      <th></th>\n",
       "    </tr>\n",
       "  </thead>\n",
       "  <tbody>\n",
       "    <tr>\n",
       "      <th>2021-12-31</th>\n",
       "      <td>-0.830635</td>\n",
       "      <td>-0.717866</td>\n",
       "      <td>0.564127</td>\n",
       "      <td>-0.015073</td>\n",
       "      <td>4.038956</td>\n",
       "      <td>0.906083</td>\n",
       "      <td>1.427051</td>\n",
       "    </tr>\n",
       "  </tbody>\n",
       "</table>\n",
       "</div>"
      ],
      "text/plain": [
       "Symbols         FSLY      IMMR        FB         U      NVDA      AAPL  \\\n",
       "Date                                                                     \n",
       "2021-12-31 -0.830635 -0.717866  0.564127 -0.015073  4.038956  0.906083   \n",
       "\n",
       "Symbols         MSFT  \n",
       "Date                  \n",
       "2021-12-31  1.427051  "
      ]
     },
     "execution_count": 9,
     "metadata": {},
     "output_type": "execute_result"
    }
   ],
   "source": [
    "### Check for annualised return \n",
    "annualized_return = (1+return_series_adj.tail(1))**(1/(1/2))-1\n",
    "annualized_return"
   ]
  },
  {
   "cell_type": "code",
   "execution_count": 10,
   "id": "1807fb01",
   "metadata": {},
   "outputs": [
    {
     "data": {
      "text/plain": [
       "<AxesSubplot:xlabel='Date'>"
      ]
     },
     "execution_count": 10,
     "metadata": {},
     "output_type": "execute_result"
    },
    {
     "data": {
      "image/png": "[encoded data removed]",
      "text/plain": [
       "<Figure size 1152x648 with 1 Axes>"
      ]
     },
     "metadata": {
      "needs_background": "light"
     },
     "output_type": "display_data"
    }
   ],
   "source": [
    "annualized_return.plot.bar(rot=0, figsize=(16,9))"
   ]
  },
  {
   "cell_type": "code",
   "execution_count": 11,
   "id": "575d63db",
   "metadata": {},
   "outputs": [
    {
     "name": "stderr",
     "output_type": "stream",
     "text": [
      "C:\\Users\\summe\\AppData\\Local\\Temp/ipykernel_7860/863718015.py:9: UserWarning: FixedFormatter should only be used together with FixedLocator\n",
      "  ax.set_yticklabels(['{:,.2%}'.format(x) for x in vals])\n"
     ]
    },
    {
     "data": {
      "text/plain": [
       "[Text(0, -2.0, '-200.00%'),\n",
       " Text(0, -1.0, '-100.00%'),\n",
       " Text(0, 0.0, '0.00%'),\n",
       " Text(0, 1.0, '100.00%'),\n",
       " Text(0, 2.0, '200.00%'),\n",
       " Text(0, 3.0, '300.00%'),\n",
       " Text(0, 4.0, '400.00%'),\n",
       " Text(0, 5.0, '500.00%')]"
      ]
     },
     "execution_count": 11,
     "metadata": {},
     "output_type": "execute_result"
    },
    {
     "data": {
      "image/png": "[encoded data removed]",
      "text/plain": [
       "<Figure size 1152x648 with 1 Axes>"
      ]
     },
     "metadata": {
      "needs_background": "light"
     },
     "output_type": "display_data"
    }
   ],
   "source": [
    "annualized_return = annualized_return.squeeze()\n",
    "# annualized_return.sort_values(ascending=True).plot.bar(rot=0, figsize=(16,9))\n",
    "\n",
    "ax = annualized_return.sort_values(ascending=True).plot.bar(rot=0, figsize=(16,9))\n",
    "type(ax)  # matplotlib.axes._subplots.AxesSubplot\n",
    "\n",
    "# manipulate\n",
    "vals = ax.get_yticks()\n",
    "ax.set_yticklabels(['{:,.2%}'.format(x) for x in vals])"
   ]
  },
  {
   "cell_type": "code",
   "execution_count": null,
   "id": "4cefb534",
   "metadata": {},
   "outputs": [],
   "source": []
  },
  {
   "cell_type": "code",
   "execution_count": 12,
   "id": "a0cb660c",
   "metadata": {},
   "outputs": [
    {
     "data": {
      "text/html": [
       "<div>\n",
       "<style scoped>\n",
       "    .dataframe tbody tr th:only-of-type {\n",
       "        vertical-align: middle;\n",
       "    }\n",
       "\n",
       "    .dataframe tbody tr th {\n",
       "        vertical-align: top;\n",
       "    }\n",
       "\n",
       "    .dataframe thead th {\n",
       "        text-align: right;\n",
       "    }\n",
       "</style>\n",
       "<table border=\"1\" class=\"dataframe\">\n",
       "  <thead>\n",
       "    <tr style=\"text-align: right;\">\n",
       "      <th>Symbols</th>\n",
       "      <th>FSLY</th>\n",
       "      <th>IMMR</th>\n",
       "      <th>FB</th>\n",
       "      <th>U</th>\n",
       "      <th>NVDA</th>\n",
       "      <th>AAPL</th>\n",
       "      <th>MSFT</th>\n",
       "    </tr>\n",
       "    <tr>\n",
       "      <th>Symbols</th>\n",
       "      <th></th>\n",
       "      <th></th>\n",
       "      <th></th>\n",
       "      <th></th>\n",
       "      <th></th>\n",
       "      <th></th>\n",
       "      <th></th>\n",
       "    </tr>\n",
       "  </thead>\n",
       "  <tbody>\n",
       "    <tr>\n",
       "      <th>FSLY</th>\n",
       "      <td>1.000000</td>\n",
       "      <td>0.958093</td>\n",
       "      <td>-0.773410</td>\n",
       "      <td>-0.014330</td>\n",
       "      <td>-0.633752</td>\n",
       "      <td>-0.498775</td>\n",
       "      <td>-0.694854</td>\n",
       "    </tr>\n",
       "    <tr>\n",
       "      <th>IMMR</th>\n",
       "      <td>0.958093</td>\n",
       "      <td>1.000000</td>\n",
       "      <td>-0.745220</td>\n",
       "      <td>-0.118343</td>\n",
       "      <td>-0.705749</td>\n",
       "      <td>-0.589879</td>\n",
       "      <td>-0.760303</td>\n",
       "    </tr>\n",
       "    <tr>\n",
       "      <th>FB</th>\n",
       "      <td>-0.773410</td>\n",
       "      <td>-0.745220</td>\n",
       "      <td>1.000000</td>\n",
       "      <td>0.072270</td>\n",
       "      <td>0.588911</td>\n",
       "      <td>0.551741</td>\n",
       "      <td>0.688762</td>\n",
       "    </tr>\n",
       "    <tr>\n",
       "      <th>U</th>\n",
       "      <td>-0.014330</td>\n",
       "      <td>-0.118343</td>\n",
       "      <td>0.072270</td>\n",
       "      <td>1.000000</td>\n",
       "      <td>0.673413</td>\n",
       "      <td>0.620160</td>\n",
       "      <td>0.592837</td>\n",
       "    </tr>\n",
       "    <tr>\n",
       "      <th>NVDA</th>\n",
       "      <td>-0.633752</td>\n",
       "      <td>-0.705749</td>\n",
       "      <td>0.588911</td>\n",
       "      <td>0.673413</td>\n",
       "      <td>1.000000</td>\n",
       "      <td>0.886576</td>\n",
       "      <td>0.962604</td>\n",
       "    </tr>\n",
       "    <tr>\n",
       "      <th>AAPL</th>\n",
       "      <td>-0.498775</td>\n",
       "      <td>-0.589879</td>\n",
       "      <td>0.551741</td>\n",
       "      <td>0.620160</td>\n",
       "      <td>0.886576</td>\n",
       "      <td>1.000000</td>\n",
       "      <td>0.888134</td>\n",
       "    </tr>\n",
       "    <tr>\n",
       "      <th>MSFT</th>\n",
       "      <td>-0.694854</td>\n",
       "      <td>-0.760303</td>\n",
       "      <td>0.688762</td>\n",
       "      <td>0.592837</td>\n",
       "      <td>0.962604</td>\n",
       "      <td>0.888134</td>\n",
       "      <td>1.000000</td>\n",
       "    </tr>\n",
       "  </tbody>\n",
       "</table>\n",
       "</div>"
      ],
      "text/plain": [
       "Symbols      FSLY      IMMR        FB         U      NVDA      AAPL      MSFT\n",
       "Symbols                                                                      \n",
       "FSLY     1.000000  0.958093 -0.773410 -0.014330 -0.633752 -0.498775 -0.694854\n",
       "IMMR     0.958093  1.000000 -0.745220 -0.118343 -0.705749 -0.589879 -0.760303\n",
       "FB      -0.773410 -0.745220  1.000000  0.072270  0.588911  0.551741  0.688762\n",
       "U       -0.014330 -0.118343  0.072270  1.000000  0.673413  0.620160  0.592837\n",
       "NVDA    -0.633752 -0.705749  0.588911  0.673413  1.000000  0.886576  0.962604\n",
       "AAPL    -0.498775 -0.589879  0.551741  0.620160  0.886576  1.000000  0.888134\n",
       "MSFT    -0.694854 -0.760303  0.688762  0.592837  0.962604  0.888134  1.000000"
      ]
     },
     "execution_count": 12,
     "metadata": {},
     "output_type": "execute_result"
    }
   ],
   "source": [
    "### Find Corr between these stocks\n",
    "return_series_close = (close_data.pct_change()+ 1).cumprod() - 1\n",
    "# return_series_close.plot(figsize=(16,9))\n",
    "return_series_close.corr()"
   ]
  },
  {
   "cell_type": "code",
   "execution_count": 13,
   "id": "eee46aaf",
   "metadata": {},
   "outputs": [
    {
     "data": {
      "image/png": "[encoded data removed]",
      "text/plain": [
       "<Figure size 432x288 with 2 Axes>"
      ]
     },
     "metadata": {
      "needs_background": "light"
     },
     "output_type": "display_data"
    }
   ],
   "source": [
    "import seaborn as sns\n",
    "dataplot = sns.heatmap(return_series_close.corr(), cmap=\"YlGnBu\")"
   ]
  },
  {
   "cell_type": "code",
   "execution_count": 14,
   "id": "1f91f9e1",
   "metadata": {},
   "outputs": [
    {
     "data": {
      "text/plain": [
       "Symbols\n",
       "FSLY    0.702763\n",
       "IMMR    0.619954\n",
       "FB      0.295573\n",
       "U       0.543271\n",
       "NVDA    0.447667\n",
       "AAPL    0.250076\n",
       "MSFT    0.209409\n",
       "dtype: float64"
      ]
     },
     "execution_count": 14,
     "metadata": {},
     "output_type": "execute_result"
    }
   ],
   "source": [
    "### Volatility\n",
    "ahv = np.sqrt(np.log(close_data / close_data.shift(1)).var()) * np.sqrt(252)\n",
    "ahv"
   ]
  },
  {
   "cell_type": "code",
   "execution_count": 15,
   "id": "20372319",
   "metadata": {},
   "outputs": [
    {
     "name": "stderr",
     "output_type": "stream",
     "text": [
      "C:\\Users\\summe\\AppData\\Local\\Temp/ipykernel_7860/3817654803.py:8: UserWarning: FixedFormatter should only be used together with FixedLocator\n",
      "  ax.set_yticklabels(['{:,.2%}'.format(x) for x in vals])\n"
     ]
    },
    {
     "data": {
      "text/plain": [
       "[Text(0, 0.0, '0.00%'),\n",
       " Text(0, 0.1, '10.00%'),\n",
       " Text(0, 0.2, '20.00%'),\n",
       " Text(0, 0.30000000000000004, '30.00%'),\n",
       " Text(0, 0.4, '40.00%'),\n",
       " Text(0, 0.5, '50.00%'),\n",
       " Text(0, 0.6000000000000001, '60.00%'),\n",
       " Text(0, 0.7000000000000001, '70.00%'),\n",
       " Text(0, 0.8, '80.00%')]"
      ]
     },
     "execution_count": 15,
     "metadata": {},
     "output_type": "execute_result"
    },
    {
     "data": {
      "image/png": "[encoded data removed]",
      "text/plain": [
       "<Figure size 1152x648 with 1 Axes>"
      ]
     },
     "metadata": {
      "needs_background": "light"
     },
     "output_type": "display_data"
    }
   ],
   "source": [
    "# ahv.sort_values(ascending=True).plot.bar(rot=0, figsize=(16,9))\n",
    "\n",
    "ax = ahv.sort_values(ascending=True).plot.bar(rot=0, figsize=(16,9))\n",
    "\n",
    "\n",
    "# manipulate\n",
    "vals = ax.get_yticks()\n",
    "ax.set_yticklabels(['{:,.2%}'.format(x) for x in vals])"
   ]
  },
  {
   "cell_type": "code",
   "execution_count": 18,
   "id": "628a2131",
   "metadata": {},
   "outputs": [],
   "source": [
    "risk_free_ann_ret_rate = 0.01\n",
    "\n",
    "returns_ts = adj_close_data.pct_change().dropna()\n",
    "avg_daily_ret = returns_ts.mean()\n",
    "\n",
    "returns_ts['RiskFree_Rate'] = risk_free_ann_ret_rate/252\n",
    "avg_rf_ret = returns_ts['RiskFree_Rate'].mean()\n",
    "\n",
    "#Add the excess return columns for each ETF\n",
    "returns_ts['Excess_ret_FSLY'] = returns_ts[\"FSLY\"] - returns_ts['RiskFree_Rate']\n",
    "returns_ts['Excess_ret_IMMR'] = returns_ts[\"IMMR\"] - returns_ts['RiskFree_Rate']\n",
    "returns_ts['Excess_ret_FB'] = returns_ts[\"FB\"] - returns_ts['RiskFree_Rate']\n",
    "returns_ts['Excess_ret_U'] = returns_ts[\"U\"] - returns_ts['RiskFree_Rate']\n",
    "returns_ts['Excess_ret_NVDA'] = returns_ts[\"NVDA\"] - returns_ts['RiskFree_Rate']\n",
    "returns_ts['Excess_ret_AAPL'] = returns_ts[\"AAPL\"] - returns_ts['RiskFree_Rate']\n",
    "returns_ts['Excess_ret_MSFT'] = returns_ts[\"MSFT\"] - returns_ts['RiskFree_Rate']"
   ]
  },
  {
   "cell_type": "code",
   "execution_count": 19,
   "id": "46063c30",
   "metadata": {},
   "outputs": [
    {
     "name": "stdout",
     "output_type": "stream",
     "text": [
      "Sharpe Ratio FSLY :\n",
      " -0.97\n",
      "Sharpe Ratio IMMR :\n",
      " -0.75\n",
      "Sharpe Ratio FB :\n",
      " 0.87\n",
      "Sharpe Ratio U :\n",
      " 0.24\n",
      "Sharpe Ratio NVDA :\n",
      " 2.0\n",
      "Sharpe Ratio AAPL :\n",
      " 1.38\n",
      "Sharpe Ratio MSFT :\n",
      " 2.18\n"
     ]
    }
   ],
   "source": [
    "#calculate sharpe ratio\n",
    "\n",
    "sharpe_FSLY = ((avg_daily_ret['FSLY'] - avg_rf_ret) /returns_ts['Excess_ret_FSLY'].std())*np.sqrt(252)\n",
    "print(\"Sharpe Ratio FSLY :\\n\", sharpe_FSLY.round(2))\n",
    "sharpe_IMMR = ((avg_daily_ret['IMMR'] - avg_rf_ret) /returns_ts['Excess_ret_IMMR'].std())*np.sqrt(252)\n",
    "print(\"Sharpe Ratio IMMR :\\n\" , sharpe_IMMR.round(2))\n",
    "sharpe_FB = ((avg_daily_ret['FB'] - avg_rf_ret) /returns_ts['Excess_ret_FB'].std())*np.sqrt(252)\n",
    "print(\"Sharpe Ratio FB :\\n\" , sharpe_FB.round(2))\n",
    "sharpe_U = ((avg_daily_ret['U'] - avg_rf_ret) /returns_ts['Excess_ret_U'].std())*np.sqrt(252)\n",
    "print(\"Sharpe Ratio U :\\n\", sharpe_U.round(2))\n",
    "sharpe_NVDA = ((avg_daily_ret['NVDA'] - avg_rf_ret) /returns_ts['Excess_ret_NVDA'].std())*np.sqrt(252)\n",
    "print(\"Sharpe Ratio NVDA :\\n\" , sharpe_NVDA.round(2))\n",
    "sharpe_AAPL = ((avg_daily_ret['AAPL'] - avg_rf_ret) /returns_ts['Excess_ret_AAPL'].std())*np.sqrt(252)\n",
    "print(\"Sharpe Ratio AAPL :\\n\" , sharpe_AAPL.round(2))\n",
    "sharpe_MSFT = ((avg_daily_ret['MSFT'] - avg_rf_ret) /returns_ts['Excess_ret_MSFT'].std())*np.sqrt(252)\n",
    "print(\"Sharpe Ratio MSFT :\\n\" , sharpe_MSFT.round(2))"
   ]
  },
  {
   "cell_type": "code",
   "execution_count": 20,
   "id": "deca509d",
   "metadata": {},
   "outputs": [],
   "source": [
    "flattened_data = pd.read_csv('flattened_data.csv')"
   ]
  },
  {
   "cell_type": "code",
   "execution_count": 21,
   "id": "7b0b00c4",
   "metadata": {},
   "outputs": [
    {
     "data": {
      "application/vnd.jupyter.widget-view+json": {
       "model_id": "e4234e8e697b40e5ad03ebc0d00d22fe",
       "version_major": 2,
       "version_minor": 0
      },
      "text/plain": [
       "Summarize dataset:   0%|          | 0/5 [00:00<?, ?it/s]"
      ]
     },
     "metadata": {},
     "output_type": "display_data"
    },
    {
     "data": {
      "application/vnd.jupyter.widget-view+json": {
       "model_id": "b807cde9c9b741ef92b22cd90c6a7994",
       "version_major": 2,
       "version_minor": 0
      },
      "text/plain": [
       "Generate report structure:   0%|          | 0/1 [00:00<?, ?it/s]"
      ]
     },
     "metadata": {},
     "output_type": "display_data"
    },
    {
     "data": {
      "application/vnd.jupyter.widget-view+json": {
       "model_id": "f37f826f3a66482eb5dbe9b162613cf2",
       "version_major": 2,
       "version_minor": 0
      },
      "text/plain": [
       "Render HTML:   0%|          | 0/1 [00:00<?, ?it/s]"
      ]
     },
     "metadata": {},
     "output_type": "display_data"
    },
    {
     "data": {
      "application/vnd.jupyter.widget-view+json": {
       "model_id": "1cc37491db624501b88deb164819d2c8",
       "version_major": 2,
       "version_minor": 0
      },
      "text/plain": [
       "Export report to file:   0%|          | 0/1 [00:00<?, ?it/s]"
      ]
     },
     "metadata": {},
     "output_type": "display_data"
    }
   ],
   "source": [
    "from pandas_profiling import ProfileReport\n",
    "prof = ProfileReport(flattened_data)\n",
    "prof.to_file(output_file='output.html')"
   ]
  }
 ],
 "metadata": {
  "kernelspec": {
   "display_name": "Python 3 (ipykernel)",
   "language": "python",
   "name": "python3"
  },
  "language_info": {
   "codemirror_mode": {
    "name": "ipython",
    "version": 3
   },
   "file_extension": ".py",
   "mimetype": "text/x-python",
   "name": "python",
   "nbconvert_exporter": "python",
   "pygments_lexer": "ipython3",
   "version": "3.9.7"
  }
 },
 "nbformat": 4,
 "nbformat_minor": 5
}
